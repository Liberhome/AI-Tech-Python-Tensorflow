{
 "cells": [
  {
   "cell_type": "code",
   "execution_count": 2,
   "metadata": {},
   "outputs": [],
   "source": [
    "import tensorflow as tf"
   ]
  },
  {
   "cell_type": "code",
   "execution_count": 3,
   "metadata": {},
   "outputs": [
    {
     "name": "stdout",
     "output_type": "stream",
     "text": [
      "Tensorflow Version : 2.1.0\n"
     ]
    }
   ],
   "source": [
    "print('Tensorflow Version : {}'.format(tf.__version__))"
   ]
  },
  {
   "cell_type": "code",
   "execution_count": 5,
   "metadata": {},
   "outputs": [],
   "source": [
    "import pandas as pd\n",
    "import numpy as np\n",
    "import matplotlib.pyplot as plt\n",
    "%matplotlib inline"
   ]
  },
  {
   "cell_type": "code",
   "execution_count": 8,
   "metadata": {},
   "outputs": [
    {
     "data": {
      "text/html": [
       "<div>\n",
       "<style scoped>\n",
       "    .dataframe tbody tr th:only-of-type {\n",
       "        vertical-align: middle;\n",
       "    }\n",
       "\n",
       "    .dataframe tbody tr th {\n",
       "        vertical-align: top;\n",
       "    }\n",
       "\n",
       "    .dataframe thead th {\n",
       "        text-align: right;\n",
       "    }\n",
       "</style>\n",
       "<table border=\"1\" class=\"dataframe\">\n",
       "  <thead>\n",
       "    <tr style=\"text-align: right;\">\n",
       "      <th></th>\n",
       "      <th>Unnameed</th>\n",
       "      <th>TV</th>\n",
       "      <th>radio</th>\n",
       "      <th>newspaper</th>\n",
       "      <th>sales</th>\n",
       "    </tr>\n",
       "  </thead>\n",
       "  <tbody>\n",
       "    <tr>\n",
       "      <td>0</td>\n",
       "      <td>1</td>\n",
       "      <td>230.1</td>\n",
       "      <td>37.8</td>\n",
       "      <td>69.2</td>\n",
       "      <td>111.3</td>\n",
       "    </tr>\n",
       "    <tr>\n",
       "      <td>1</td>\n",
       "      <td>2</td>\n",
       "      <td>144.5</td>\n",
       "      <td>39.3</td>\n",
       "      <td>45.1</td>\n",
       "      <td>112.3</td>\n",
       "    </tr>\n",
       "    <tr>\n",
       "      <td>2</td>\n",
       "      <td>3</td>\n",
       "      <td>15.5</td>\n",
       "      <td>40.3</td>\n",
       "      <td>41.3</td>\n",
       "      <td>8.5</td>\n",
       "    </tr>\n",
       "    <tr>\n",
       "      <td>3</td>\n",
       "      <td>4</td>\n",
       "      <td>46.5</td>\n",
       "      <td>12.3</td>\n",
       "      <td>42.3</td>\n",
       "      <td>41.3</td>\n",
       "    </tr>\n",
       "    <tr>\n",
       "      <td>4</td>\n",
       "      <td>5</td>\n",
       "      <td>41.3</td>\n",
       "      <td>11.3</td>\n",
       "      <td>43.3</td>\n",
       "      <td>42.3</td>\n",
       "    </tr>\n",
       "  </tbody>\n",
       "</table>\n",
       "</div>"
      ],
      "text/plain": [
       "   Unnameed     TV  radio  newspaper  sales\n",
       "0         1  230.1   37.8       69.2  111.3\n",
       "1         2  144.5   39.3       45.1  112.3\n",
       "2         3   15.5   40.3       41.3    8.5\n",
       "3         4   46.5   12.3       42.3   41.3\n",
       "4         5   41.3   11.3       43.3   42.3"
      ]
     },
     "execution_count": 8,
     "metadata": {},
     "output_type": "execute_result"
    }
   ],
   "source": [
    "data=pd.read_csv('./Advertising.csv')\n",
    "data.head()"
   ]
  },
  {
   "cell_type": "code",
   "execution_count": 9,
   "metadata": {},
   "outputs": [
    {
     "data": {
      "text/plain": [
       "<matplotlib.collections.PathCollection at 0x145f41dd0>"
      ]
     },
     "execution_count": 9,
     "metadata": {},
     "output_type": "execute_result"
    },
    {
     "data": {
      "image/png": "[encoded data removed]",
      "text/plain": [
       "<Figure size 432x288 with 1 Axes>"
      ]
     },
     "metadata": {
      "needs_background": "light"
     },
     "output_type": "display_data"
    }
   ],
   "source": [
    "plt.scatter(data.TV,data.sales)"
   ]
  },
  {
   "cell_type": "code",
   "execution_count": 10,
   "metadata": {},
   "outputs": [
    {
     "data": {
      "text/plain": [
       "<matplotlib.collections.PathCollection at 0x1460a3c90>"
      ]
     },
     "execution_count": 10,
     "metadata": {},
     "output_type": "execute_result"
    },
    {
     "data": {
      "image/png": "[encoded data removed]",
      "text/plain": [
       "<Figure size 432x288 with 1 Axes>"
      ]
     },
     "metadata": {
      "needs_background": "light"
     },
     "output_type": "display_data"
    }
   ],
   "source": [
    "plt.scatter(data.radio,data.sales)"
   ]
  },
  {
   "cell_type": "code",
   "execution_count": 11,
   "metadata": {},
   "outputs": [
    {
     "data": {
      "text/plain": [
       "<matplotlib.collections.PathCollection at 0x146189a90>"
      ]
     },
     "execution_count": 11,
     "metadata": {},
     "output_type": "execute_result"
    },
    {
     "data": {
      "image/png": "[encoded data removed]",
      "text/plain": [
       "<Figure size 432x288 with 1 Axes>"
      ]
     },
     "metadata": {
      "needs_background": "light"
     },
     "output_type": "display_data"
    }
   ],
   "source": [
    "plt.scatter(data.newspaper,data.sales)"
   ]
  },
  {
   "cell_type": "code",
   "execution_count": 12,
   "metadata": {},
   "outputs": [],
   "source": [
    "x=data.iloc[:,1:-1]\n",
    "y=data.iloc[:,-1]"
   ]
  },
  {
   "cell_type": "code",
   "execution_count": 15,
   "metadata": {},
   "outputs": [
    {
     "name": "stdout",
     "output_type": "stream",
     "text": [
      "Model: \"sequential_1\"\n",
      "_________________________________________________________________\n",
      "Layer (type)                 Output Shape              Param #   \n",
      "=================================================================\n",
      "dense (Dense)                (None, 10)                40        \n",
      "_________________________________________________________________\n",
      "dense_1 (Dense)              (None, 1)                 11        \n",
      "=================================================================\n",
      "Total params: 51\n",
      "Trainable params: 51\n",
      "Non-trainable params: 0\n",
      "_________________________________________________________________\n"
     ]
    }
   ],
   "source": [
    "#建立一个顺序模型。\n",
    "model=tf.keras.Sequential([tf.keras.layers.Dense(10,input_shape=(3,),activation='relu')\n",
    "                           ,tf.keras.layers.Dense(1)]\n",
    ")\n",
    "model.summary()"
   ]
  },
  {
   "cell_type": "code",
   "execution_count": 16,
   "metadata": {},
   "outputs": [],
   "source": [
    "#配置一个优化器,设置损失函数为均方差\n",
    "model.compile(optimizer='adam',loss='mse',)"
   ]
  },
  {
   "cell_type": "code",
   "execution_count": 18,
   "metadata": {},
   "outputs": [
    {
     "name": "stdout",
     "output_type": "stream",
     "text": [
      "Train on 29 samples\n",
      "Epoch 1/100\n",
      "29/29 [==============================] - 0s 7ms/sample - loss: 3239.6892\n",
      "Epoch 2/100\n",
      "29/29 [==============================] - 0s 49us/sample - loss: 3192.0693\n",
      "Epoch 3/100\n",
      "29/29 [==============================] - 0s 44us/sample - loss: 3144.7500\n",
      "Epoch 4/100\n",
      "29/29 [==============================] - 0s 58us/sample - loss: 3097.7388\n",
      "Epoch 5/100\n",
      "29/29 [==============================] - 0s 48us/sample - loss: 3051.0425\n",
      "Epoch 6/100\n",
      "29/29 [==============================] - 0s 48us/sample - loss: 3004.6682\n",
      "Epoch 7/100\n",
      "29/29 [==============================] - 0s 49us/sample - loss: 2958.6208\n",
      "Epoch 8/100\n",
      "29/29 [==============================] - 0s 42us/sample - loss: 2912.9084\n",
      "Epoch 9/100\n",
      "29/29 [==============================] - 0s 45us/sample - loss: 2867.5347\n",
      "Epoch 10/100\n",
      "29/29 [==============================] - 0s 44us/sample - loss: 2822.5125\n",
      "Epoch 11/100\n",
      "29/29 [==============================] - 0s 48us/sample - loss: 2777.8884\n",
      "Epoch 12/100\n",
      "29/29 [==============================] - 0s 46us/sample - loss: 2733.6226\n",
      "Epoch 13/100\n",
      "29/29 [==============================] - 0s 48us/sample - loss: 2689.7156\n",
      "Epoch 14/100\n",
      "29/29 [==============================] - 0s 54us/sample - loss: 2646.1711\n",
      "Epoch 15/100\n",
      "29/29 [==============================] - 0s 49us/sample - loss: 2602.9929\n",
      "Epoch 16/100\n",
      "29/29 [==============================] - 0s 51us/sample - loss: 2560.1855\n",
      "Epoch 17/100\n",
      "29/29 [==============================] - 0s 52us/sample - loss: 2517.7527\n",
      "Epoch 18/100\n",
      "29/29 [==============================] - 0s 56us/sample - loss: 2475.6980\n",
      "Epoch 19/100\n",
      "29/29 [==============================] - 0s 62us/sample - loss: 2434.0254\n",
      "Epoch 20/100\n",
      "29/29 [==============================] - 0s 59us/sample - loss: 2392.7378\n",
      "Epoch 21/100\n",
      "29/29 [==============================] - 0s 64us/sample - loss: 2351.8389\n",
      "Epoch 22/100\n",
      "29/29 [==============================] - 0s 56us/sample - loss: 2311.3315\n",
      "Epoch 23/100\n",
      "29/29 [==============================] - 0s 49us/sample - loss: 2271.2190\n",
      "Epoch 24/100\n",
      "29/29 [==============================] - 0s 51us/sample - loss: 2231.5034\n",
      "Epoch 25/100\n",
      "29/29 [==============================] - 0s 50us/sample - loss: 2192.1877\n",
      "Epoch 26/100\n",
      "29/29 [==============================] - 0s 82us/sample - loss: 2153.2737\n",
      "Epoch 27/100\n",
      "29/29 [==============================] - 0s 58us/sample - loss: 2114.7646\n",
      "Epoch 28/100\n",
      "29/29 [==============================] - 0s 47us/sample - loss: 2076.6619\n",
      "Epoch 29/100\n",
      "29/29 [==============================] - 0s 52us/sample - loss: 2038.9673\n",
      "Epoch 30/100\n",
      "29/29 [==============================] - 0s 52us/sample - loss: 2001.6829\n",
      "Epoch 31/100\n",
      "29/29 [==============================] - 0s 47us/sample - loss: 1964.8099\n",
      "Epoch 32/100\n",
      "29/29 [==============================] - 0s 48us/sample - loss: 1928.3500\n",
      "Epoch 33/100\n",
      "29/29 [==============================] - 0s 78us/sample - loss: 1892.3042\n",
      "Epoch 34/100\n",
      "29/29 [==============================] - 0s 128us/sample - loss: 1856.6737\n",
      "Epoch 35/100\n",
      "29/29 [==============================] - 0s 101us/sample - loss: 1821.4600\n",
      "Epoch 36/100\n",
      "29/29 [==============================] - 0s 228us/sample - loss: 1786.6636\n",
      "Epoch 37/100\n",
      "29/29 [==============================] - 0s 58us/sample - loss: 1752.2852\n",
      "Epoch 38/100\n",
      "29/29 [==============================] - 0s 59us/sample - loss: 1718.3257\n",
      "Epoch 39/100\n",
      "29/29 [==============================] - 0s 61us/sample - loss: 1684.7859\n",
      "Epoch 40/100\n",
      "29/29 [==============================] - 0s 54us/sample - loss: 1651.6655\n",
      "Epoch 41/100\n",
      "29/29 [==============================] - 0s 49us/sample - loss: 1618.9659\n",
      "Epoch 42/100\n",
      "29/29 [==============================] - 0s 70us/sample - loss: 1586.6870\n",
      "Epoch 43/100\n",
      "29/29 [==============================] - 0s 50us/sample - loss: 1554.8289\n",
      "Epoch 44/100\n",
      "29/29 [==============================] - 0s 50us/sample - loss: 1523.3907\n",
      "Epoch 45/100\n",
      "29/29 [==============================] - 0s 49us/sample - loss: 1492.3738\n",
      "Epoch 46/100\n",
      "29/29 [==============================] - 0s 52us/sample - loss: 1461.7771\n",
      "Epoch 47/100\n",
      "29/29 [==============================] - 0s 51us/sample - loss: 1431.6012\n",
      "Epoch 48/100\n",
      "29/29 [==============================] - 0s 52us/sample - loss: 1401.8455\n",
      "Epoch 49/100\n",
      "29/29 [==============================] - 0s 55us/sample - loss: 1372.5096\n",
      "Epoch 50/100\n",
      "29/29 [==============================] - 0s 49us/sample - loss: 1343.5940\n",
      "Epoch 51/100\n",
      "29/29 [==============================] - 0s 48us/sample - loss: 1315.0975\n",
      "Epoch 52/100\n",
      "29/29 [==============================] - 0s 47us/sample - loss: 1287.0199\n",
      "Epoch 53/100\n",
      "29/29 [==============================] - 0s 49us/sample - loss: 1259.3608\n",
      "Epoch 54/100\n",
      "29/29 [==============================] - 0s 51us/sample - loss: 1232.1196\n",
      "Epoch 55/100\n",
      "29/29 [==============================] - 0s 49us/sample - loss: 1205.2957\n",
      "Epoch 56/100\n",
      "29/29 [==============================] - 0s 63us/sample - loss: 1178.8882\n",
      "Epoch 57/100\n",
      "29/29 [==============================] - 0s 60us/sample - loss: 1152.8966\n",
      "Epoch 58/100\n",
      "29/29 [==============================] - 0s 58us/sample - loss: 1127.3199\n",
      "Epoch 59/100\n",
      "29/29 [==============================] - 0s 47us/sample - loss: 1102.1572\n",
      "Epoch 60/100\n",
      "29/29 [==============================] - 0s 50us/sample - loss: 1077.4077\n",
      "Epoch 61/100\n",
      "29/29 [==============================] - 0s 45us/sample - loss: 1053.0702\n",
      "Epoch 62/100\n",
      "29/29 [==============================] - 0s 57us/sample - loss: 1029.1437\n",
      "Epoch 63/100\n",
      "29/29 [==============================] - 0s 51us/sample - loss: 1005.6273\n",
      "Epoch 64/100\n",
      "29/29 [==============================] - 0s 59us/sample - loss: 982.5191\n",
      "Epoch 65/100\n",
      "29/29 [==============================] - 0s 47us/sample - loss: 959.8183\n",
      "Epoch 66/100\n",
      "29/29 [==============================] - 0s 48us/sample - loss: 937.5234\n",
      "Epoch 67/100\n",
      "29/29 [==============================] - 0s 53us/sample - loss: 915.6329\n",
      "Epoch 68/100\n",
      "29/29 [==============================] - 0s 47us/sample - loss: 894.1454\n",
      "Epoch 69/100\n",
      "29/29 [==============================] - 0s 53us/sample - loss: 873.0594\n",
      "Epoch 70/100\n",
      "29/29 [==============================] - 0s 54us/sample - loss: 852.3729\n",
      "Epoch 71/100\n",
      "29/29 [==============================] - 0s 58us/sample - loss: 832.0839\n",
      "Epoch 72/100\n",
      "29/29 [==============================] - 0s 52us/sample - loss: 812.1910\n",
      "Epoch 73/100\n",
      "29/29 [==============================] - 0s 50us/sample - loss: 792.6918\n",
      "Epoch 74/100\n",
      "29/29 [==============================] - 0s 47us/sample - loss: 773.5849\n",
      "Epoch 75/100\n",
      "29/29 [==============================] - 0s 54us/sample - loss: 754.8674\n",
      "Epoch 76/100\n",
      "29/29 [==============================] - 0s 50us/sample - loss: 736.5378\n",
      "Epoch 77/100\n",
      "29/29 [==============================] - 0s 50us/sample - loss: 718.5930\n",
      "Epoch 78/100\n",
      "29/29 [==============================] - 0s 50us/sample - loss: 701.0309\n",
      "Epoch 79/100\n",
      "29/29 [==============================] - 0s 51us/sample - loss: 683.8485\n",
      "Epoch 80/100\n",
      "29/29 [==============================] - 0s 47us/sample - loss: 667.0431\n",
      "Epoch 81/100\n",
      "29/29 [==============================] - 0s 46us/sample - loss: 650.6122\n",
      "Epoch 82/100\n",
      "29/29 [==============================] - 0s 49us/sample - loss: 634.5532\n",
      "Epoch 83/100\n",
      "29/29 [==============================] - 0s 54us/sample - loss: 618.8630\n",
      "Epoch 84/100\n",
      "29/29 [==============================] - 0s 50us/sample - loss: 603.5385\n",
      "Epoch 85/100\n",
      "29/29 [==============================] - 0s 47us/sample - loss: 588.5769\n",
      "Epoch 86/100\n",
      "29/29 [==============================] - 0s 59us/sample - loss: 573.9745\n",
      "Epoch 87/100\n",
      "29/29 [==============================] - 0s 55us/sample - loss: 559.7282\n",
      "Epoch 88/100\n",
      "29/29 [==============================] - 0s 55us/sample - loss: 545.8348\n",
      "Epoch 89/100\n",
      "29/29 [==============================] - 0s 52us/sample - loss: 532.2903\n",
      "Epoch 90/100\n",
      "29/29 [==============================] - 0s 46us/sample - loss: 519.0913\n",
      "Epoch 91/100\n",
      "29/29 [==============================] - 0s 48us/sample - loss: 506.2340\n",
      "Epoch 92/100\n",
      "29/29 [==============================] - 0s 48us/sample - loss: 493.7148\n",
      "Epoch 93/100\n",
      "29/29 [==============================] - 0s 61us/sample - loss: 481.5293\n",
      "Epoch 94/100\n",
      "29/29 [==============================] - 0s 58us/sample - loss: 469.6738\n",
      "Epoch 95/100\n",
      "29/29 [==============================] - 0s 55us/sample - loss: 458.1437\n",
      "Epoch 96/100\n",
      "29/29 [==============================] - 0s 59us/sample - loss: 446.9355\n",
      "Epoch 97/100\n",
      "29/29 [==============================] - 0s 53us/sample - loss: 436.0442\n",
      "Epoch 98/100\n",
      "29/29 [==============================] - 0s 74us/sample - loss: 425.4656\n",
      "Epoch 99/100\n",
      "29/29 [==============================] - 0s 76us/sample - loss: 415.1952\n",
      "Epoch 100/100\n",
      "29/29 [==============================] - 0s 80us/sample - loss: 405.2285\n"
     ]
    },
    {
     "data": {
      "text/plain": [
       "<tensorflow.python.keras.callbacks.History at 0x146354050>"
      ]
     },
     "execution_count": 18,
     "metadata": {},
     "output_type": "execute_result"
    }
   ],
   "source": [
    "#在x，轴上叙述==\n",
    "model.fit(x,y,epochs=100)"
   ]
  },
  {
   "cell_type": "code",
   "execution_count": null,
   "metadata": {},
   "outputs": [],
   "source": []
  }
 ],
 "metadata": {
  "kernelspec": {
   "display_name": "Python 3",
   "language": "python",
   "name": "python3"
  },
  "language_info": {
   "codemirror_mode": {
    "name": "ipython",
    "version": 3
   },
   "file_extension": ".py",
   "mimetype": "text/x-python",
   "name": "python",
   "nbconvert_exporter": "python",
   "pygments_lexer": "ipython3",
   "version": "3.7.4"
  }
 },
 "nbformat": 4,
 "nbformat_minor": 4
}
